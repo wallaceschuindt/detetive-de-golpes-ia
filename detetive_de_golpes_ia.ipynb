{
  "nbformat": 4,
  "nbformat_minor": 0,
  "metadata": {
    "colab": {
      "provenance": []
    },
    "kernelspec": {
      "name": "python3",
      "display_name": "Python 3"
    },
    "language_info": {
      "name": "python"
    }
  },
  "cells": [
    {
      "cell_type": "code",
      "execution_count": 1,
      "metadata": {
        "id": "_B4p3seDXGPW"
      },
      "outputs": [],
      "source": [
        "# Instalar o SDK do Google\n",
        "!pip install -q -U google-generativeai\n",
        "\n",
        "# Importar as bibliotecas necessárias\n",
        "import google.generativeai as genai\n",
        "import os # Usaremos para variáveis de ambiente se necessário\n",
        "from google.colab import userdata # Para buscar a API Key de forma segura no Colab"
      ]
    },
    {
      "cell_type": "code",
      "source": [
        "# Configure sua API Key\n",
        "# 1. Vá em \"Get API Key\" no Google AI Studio (ou na lateral esquerda do Colab no ícone de chave \"Secrets\")\n",
        "# 2. Crie ou use uma API Key existente.\n",
        "# 3. No Colab, clique no ícone de chave 🔑 (Segredos) na barra lateral esquerda.\n",
        "# 4. Clique em \"+ Adicionar novo secret\".\n",
        "# 5. No campo \"Nome\", digite exatamente: GOOGLE_API_KEY\n",
        "# 6. No campo \"Valor\", cole a sua chave de API.\n",
        "# 7. Ative o botão \"Acesso do notebook\".\n",
        "# 8. Agora, podemos buscar essa chave de forma segura:\n",
        "\n",
        "try:\n",
        "    GOOGLE_API_KEY = userdata.get('GOOGLE_API_KEY')\n",
        "    genai.configure(api_key=GOOGLE_API_KEY)\n",
        "    print(\"API Key configurada com sucesso!\")\n",
        "except userdata.SecretNotFoundError:\n",
        "    print(\"Erro: Secret 'GOOGLE_API_KEY' não encontrado.\")\n",
        "    print(\"Por favor, configure a API Key nos segredos do Colab como instruído acima.\")\n",
        "except Exception as e:\n",
        "    print(f\"Ocorreu um erro ao configurar a API Key: {e}\")"
      ],
      "metadata": {
        "colab": {
          "base_uri": "https://localhost:8080/"
        },
        "id": "pTUsB0O0X3CK",
        "outputId": "c959dbbd-69e3-4fbc-83bc-58c38b5c552d"
      },
      "execution_count": 2,
      "outputs": [
        {
          "output_type": "stream",
          "name": "stdout",
          "text": [
            "API Key configurada com sucesso!\n"
          ]
        }
      ]
    },
    {
      "cell_type": "code",
      "source": [
        "# Configurações do modelo Gemini que usaremos (podemos ajustar depois)\n",
        "generation_config = {\n",
        "    \"candidate_count\": 1, # Gera apenas uma resposta\n",
        "    \"temperature\": 0.7,   # Um valor entre 0 e 1. Mais alto = mais criativo/aleatório.\n",
        "                          # Para um detetive, talvez um valor mais baixo seja melhor se usarmos IA para análise.\n",
        "                          # Por enquanto, para regras, isso não afeta.\n",
        "}\n",
        "\n",
        "safety_settings = {\n",
        "    # Configurações de segurança para evitar conteúdo prejudicial\n",
        "    # Ajuste conforme necessário, mas os padrões costumam ser bons.\n",
        "}\n",
        "\n",
        "# Inicializar o modelo Generativo\n",
        "# Usaremos o gemini-1.0-pro por enquanto, que é um bom modelo geral.\n",
        "# Se precisarmos de algo mais rápido e simples, poderíamos usar o \"gemini-1.0-pro-001\" ou o flash.\n",
        "try:\n",
        "    model = genai.GenerativeModel(model_name='gemini-1.0-pro',\n",
        "                                  generation_config=generation_config,\n",
        "                                  safety_settings=safety_settings)\n",
        "    print(\"Modelo Gemini inicializado com sucesso!\")\n",
        "except Exception as e:\n",
        "    print(f\"Ocorreu um erro ao inicializar o modelo: {e}\")"
      ],
      "metadata": {
        "colab": {
          "base_uri": "https://localhost:8080/"
        },
        "id": "sun4Hno2ZlVl",
        "outputId": "f654a90b-831d-435e-a7cb-a3e5e0f115a7"
      },
      "execution_count": 3,
      "outputs": [
        {
          "output_type": "stream",
          "name": "stdout",
          "text": [
            "Modelo Gemini inicializado com sucesso!\n"
          ]
        }
      ]
    },
    {
      "cell_type": "code",
      "source": [
        "def chatbot_detetive_de_golpes():\n",
        "    print(\"🤖 Olá! Sou o Detetive de Golpes IA.\")\n",
        "    print(\"🕵️ Minha missão é te ajudar a identificar possíveis golpes em mensagens!\")\n",
        "    print(\"Por favor, cole abaixo a mensagem suspeita que você recebeu ou descreva a situação.\")\n",
        "    print(\"Lembre-se: Eu sou um assistente baseado em regras e meu conhecimento é limitado.\")\n",
        "    print(\"Sempre desconfie e, na dúvida, não clique e não forneça dados!\")\n",
        "    print(\"------------------------------------------------------------------------------------\")\n",
        "\n",
        "    mensagem_usuario = input(\"Digite ou cole a mensagem suspeita aqui: \")\n",
        "    mensagem_lower = mensagem_usuario.lower() # Converter para minúsculas para facilitar a busca\n",
        "\n",
        "    # --- Listas de Detecção ---\n",
        "    # Você pode (e deve!) adicionar mais palavras e padrões aqui com o tempo!\n",
        "    # Quanto mais completo, melhor o detetive.\n",
        "\n",
        "    palavras_chave_suspeitas = [\n",
        "        \"parabéns você ganhou\", \"você foi sorteado\", \"prêmio incrível\", \"oferta exclusiva e limitada\",\n",
        "        \"clique aqui urgente\", \"regularize sua situação imediatamente\", \"sua conta foi bloqueada\",\n",
        "        \"última chance\", \"não perca\", \"dinheiro fácil\", \"renda extra garantida\", \"investimento seguro e rápido\",\n",
        "        \"desconto imperdível só hoje\", \"problemas com sua entrega\", \"atualize seus dados agora\",\n",
        "        \"suporte técnico informa\", \"banco central comunica\", \"receita federal intimação\",\n",
        "        \"seu nome foi protestado\", \"ameaça de negativação\", \"valor bloqueado\", \"liberação de acesso\"\n",
        "    ]\n",
        "\n",
        "    frases_comuns_golpe = [\n",
        "        \"para liberar seu prêmio, pague uma pequena taxa\",\n",
        "        \"confirme seus dados bancários para continuar\",\n",
        "        \"envie seus documentos para este email\",\n",
        "        \"seu parente precisa de ajuda financeira urgente\", # Golpe do falso parente\n",
        "        \"falso empréstimo consignado\", \"oportunidade de emprego falsa\"\n",
        "    ]\n",
        "\n",
        "    # Padrões de links que podem ser suspeitos\n",
        "    # Adicionar mais TLDs (domínios de topo) estranhos ou encurtadores\n",
        "    links_suspeitos_padroes = [\n",
        "        \"bit.ly/\", \"tinyurl.com/\", \".xyz\", \".club\", \".online\", \".top\", \".live\", \".info\", \".site\",\n",
        "        \"http://\" # Links não seguros (HTTPS é o padrão hoje)\n",
        "        # Poderíamos adicionar RegEx aqui para links com muitos números ou sequências aleatórias\n",
        "    ]\n",
        "\n",
        "    solicitacao_dados_sensiveis = [\n",
        "        \"cpf\", \"rg\", \"número do cartão\", \"validade do cartão\", \"código de segurança\", \"cvv\",\n",
        "        \"senha do banco\", \"senha do aplicativo\", \"código de verificação\", \"token\", \"dados de acesso\"\n",
        "    ]\n",
        "\n",
        "    erros_gramaticais_grosseiros_indicativos = [\n",
        "        # Adicionar aqui exemplos de erros comuns que golpistas cometem\n",
        "        # Ex: \"voce\", \"problemaS\", \"acesso negado IMEDIATAMENTE\" (ênfase exagerada)\n",
        "        # Esta parte é mais subjetiva e pode precisar de IA para uma análise melhor,\n",
        "        # mas podemos listar alguns padrões se você identificar.\n",
        "    ]\n",
        "\n",
        "    # --- Lógica de Análise ---\n",
        "    alertas_encontrados = [] # Lista para guardar os motivos do alerta\n",
        "\n",
        "    # 1. Verificar palavras-chave suspeitas\n",
        "    for palavra in palavras_chave_suspeitas:\n",
        "        if palavra in mensagem_lower:\n",
        "            alertas_encontrados.append(f\"Presença da expressão suspeita: '{palavra}'\")\n",
        "\n",
        "    # 2. Verificar frases comuns de golpe\n",
        "    for frase in frases_comuns_golpe:\n",
        "        if frase in mensagem_lower:\n",
        "            alertas_encontrados.append(f\"Contém uma frase comum em golpes: '{frase}'\")\n",
        "\n",
        "    # 3. Verificar padrões de links suspeitos\n",
        "    for padrao_link in links_suspeitos_padroes:\n",
        "        if padrao_link in mensagem_lower:\n",
        "            if padrao_link == \"http://\" and \"https://\" not in mensagem_lower: # Alerta para http se não for https\n",
        "                 alertas_encontrados.append(f\"Uso de link não seguro (HTTP): um link seguro geralmente começa com HTTPS.\")\n",
        "            elif padrao_link != \"http://\":\n",
        "                alertas_encontrados.append(f\"Contém um padrão de link que pode ser suspeito: '{padrao_link}'. Verifique o remetente e o destino do link com MUITO cuidado antes de clicar.\")\n",
        "\n",
        "    # 4. Verificar solicitação direta de dados sensíveis\n",
        "    for dado in solicitacao_dados_sensiveis:\n",
        "        if dado in mensagem_lower:\n",
        "            alertas_encontrados.append(f\"Solicitação (direta ou indireta) de dados sensíveis: '{dado}'. Nunca forneça esses dados por mensagem!\")\n",
        "\n",
        "    # 5. (Opcional e Simples) Verificar se a mensagem é muito curta e só tem um link\n",
        "    if len(mensagem_usuario.split()) < 5 and (\"http://\" in mensagem_lower or \"https://\" in mensagem_lower):\n",
        "        alertas_encontrados.append(\"Mensagem muito curta contendo apenas um link, o que pode ser suspeito.\")\n",
        "\n",
        "    # --- Exibir Resultado da Análise ---\n",
        "    print(\"------------------------------------------------------------------------------------\")\n",
        "    print(\"🔍 Resultado da Análise do Detetive de Golpes IA:\")\n",
        "    print(\"------------------------------------------------------------------------------------\")\n",
        "\n",
        "    if alertas_encontrados:\n",
        "        print(\"🚨 ALERTA DE POTENCIAL GOLPE! 🚨\")\n",
        "        print(\"Identifiquei os seguintes pontos de atenção nesta mensagem:\")\n",
        "        # Usar set para mostrar cada tipo de alerta apenas uma vez, mesmo que acionado por múltiplas palavras\n",
        "        for alerta_unico in sorted(list(set(alertas_encontrados))): # sorted para ordem alfabética\n",
        "            print(f\"- {alerta_unico}\")\n",
        "        print(\"\\nRecomendações IMPORTANTES:\")\n",
        "        print(\"  - NÃO CLIQUE em links suspeitos.\")\n",
        "        print(\"  - NÃO FORNEÇA dados pessoais, senhas ou códigos.\")\n",
        "        print(\"  - NÃO FAÇA transferências ou pagamentos sob pressão.\")\n",
        "        print(\"  - DESCONFIE de promessas muito boas para ser verdade ou ameaças urgentes.\")\n",
        "        print(\"  - Se a mensagem parecer ser de uma empresa conhecida, entre em contato com a empresa por um canal OFICIAL (site, app oficial, telefone que VOCÊ procurou) para verificar a veracidade.\")\n",
        "    else:\n",
        "        print(\"✅ Análise inicial concluída.\")\n",
        "        print(\"Com base nas minhas regras atuais, não identifiquei sinais ÓBVIOS de golpe nesta mensagem.\")\n",
        "        print(\"No entanto, isso NÃO garante que a mensagem seja 100% segura.\")\n",
        "        print(\"\\Continue sempre alerta:\")\n",
        "        print(\"  - Verifique o remetente: Você conhece? Esperava essa mensagem?\")\n",
        "        print(\"  - Analise o contexto: Faz sentido essa solicitação ou informação?\")\n",
        "        print(\"  - Na dúvida, a melhor ação é NÃO INTERAGIR e buscar confirmação por outros meios.\")\n",
        "\n",
        "    print(\"------------------------------------------------------------------------------------\")\n",
        "    print(\"Lembre-se: a cautela é sua maior aliada contra golpes online!\")\n",
        "    print(\"------------------------------------------------------------------------------------\")"
      ],
      "metadata": {
        "id": "X9MAySkNZyN6"
      },
      "execution_count": 4,
      "outputs": []
    },
    {
      "cell_type": "code",
      "source": [
        "# Agora vamos chamar a função para iniciar o chatbot!\n",
        "chatbot_detetive_de_golpes()"
      ],
      "metadata": {
        "colab": {
          "base_uri": "https://localhost:8080/"
        },
        "id": "-X6FPrmlZ03Y",
        "outputId": "0ad2cf09-f5e2-479c-da63-2083ac69ec36"
      },
      "execution_count": null,
      "outputs": [
        {
          "output_type": "stream",
          "name": "stdout",
          "text": [
            "🤖 Olá! Sou o Detetive de Golpes IA.\n",
            "🕵️ Minha missão é te ajudar a identificar possíveis golpes em mensagens!\n",
            "Por favor, cole abaixo a mensagem suspeita que você recebeu ou descreva a situação.\n",
            "Lembre-se: Eu sou um assistente baseado em regras e meu conhecimento é limitado.\n",
            "Sempre desconfie e, na dúvida, não clique e não forneça dados!\n",
            "------------------------------------------------------------------------------------\n"
          ]
        }
      ]
    }
  ]
}